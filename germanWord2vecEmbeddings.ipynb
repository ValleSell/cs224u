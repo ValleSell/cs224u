{
  "nbformat": 4,
  "nbformat_minor": 0,
  "metadata": {
    "kernelspec": {
      "name": "python3",
      "display_name": "Python 3"
    },
    "colab": {
      "name": "germanWord2vecEmbeddings.ipynb",
      "private_outputs": true,
      "provenance": [],
      "collapsed_sections": [],
      "include_colab_link": true
    },
    "language_info": {
      "name": "python"
    }
  },
  "cells": [
    {
      "cell_type": "markdown",
      "metadata": {
        "id": "view-in-github",
        "colab_type": "text"
      },
      "source": [
        "<a href=\"https://colab.research.google.com/github/ValleSell/cs224u/blob/master/germanWord2vecEmbeddings.ipynb\" target=\"_parent\"><img src=\"https://colab.research.google.com/assets/colab-badge.svg\" alt=\"Open In Colab\"/></a>"
      ]
    },
    {
      "cell_type": "markdown",
      "metadata": {
        "id": "JGPt0ht2DOX6"
      },
      "source": [
        "# [GermanWordEmbeddings](https://devmount.github.io/GermanWordEmbeddings/) \n",
        "See Link for more information on training and text preprocessing."
      ]
    },
    {
      "cell_type": "code",
      "metadata": {
        "id": "xGNxNxP74gkY"
      },
      "source": [
        "%matplotlib inline\n",
        "import gensim\n",
        "import matplotlib.pyplot as plt\n",
        "from sklearn.decomposition import PCA\n",
        "from sklearn.manifold import TSNE"
      ],
      "execution_count": null,
      "outputs": []
    },
    {
      "cell_type": "markdown",
      "metadata": {
        "id": "Lw935MYS7S48"
      },
      "source": [
        "Download the German word2vec model if not downloaded already"
      ]
    },
    {
      "cell_type": "code",
      "metadata": {
        "id": "6uBTfFn_59C9"
      },
      "source": [
        "! test -e german.model || wget https://cloud.devmount.de/d2bc5672c523b086/german.model\n",
        "#Variieren die Modele je nach (natürlicher) Sprache? Und wenn ja, warum? window size"
      ],
      "execution_count": null,
      "outputs": []
    },
    {
      "cell_type": "code",
      "metadata": {
        "id": "gRImdIpr4gka"
      },
      "source": [
        "# load trained model\n",
        "model = gensim.models.KeyedVectors.load_word2vec_format(\"german.model\", binary=True)"
      ],
      "execution_count": null,
      "outputs": []
    },
    {
      "cell_type": "markdown",
      "metadata": {
        "id": "wwvUcIvSFttq"
      },
      "source": [
        "# Compute nearest neighbours"
      ]
    },
    {
      "cell_type": "code",
      "metadata": {
        "id": "jqv1mNuiF0Wp"
      },
      "source": [
        "for w, sim in model.most_similar(\"mies\", topn=10):\n",
        "\tprint(w, sim)"
      ],
      "execution_count": null,
      "outputs": []
    },
    {
      "cell_type": "code",
      "metadata": {
        "id": "hthGah8TzAY6"
      },
      "source": [
        "for w, sim in model.most_similar(\"frau\", topn=10):\n",
        "\tprint(w, sim)\n",
        " #bei sexistischen Darstellungen wird \"Frau\" kleingeschrieben oder wie ist das hier zu interpretieren?"
      ],
      "execution_count": null,
      "outputs": []
    },
    {
      "cell_type": "code",
      "metadata": {
        "id": "zMwIN_lDyAYD"
      },
      "source": [
        "for w, sim in model.most_similar(\"Frau\", topn=10):\n",
        "\tprint(w, sim)"
      ],
      "execution_count": null,
      "outputs": []
    },
    {
      "cell_type": "code",
      "metadata": {
        "id": "62kquwxTyd2S"
      },
      "source": [
        "for w, sim in model.most_similar(\"Mann\", negative=[\"jung\"], topn=10):\n",
        "\tprint(w, sim)\n",
        " \n",
        "print (\"---\\n\")\n",
        "for w, sim in model.most_similar(\"Mann\", negative=[\"Frau\"], topn=10):\n",
        "  print(w, sim)\n",
        "\n",
        "#??"
      ],
      "execution_count": null,
      "outputs": []
    },
    {
      "cell_type": "code",
      "metadata": {
        "id": "y7meLOpFG8Lx"
      },
      "source": [
        "for w, sim in model.most_similar(\"Schweiz\", topn=10):\n",
        "\tprint(w, sim)"
      ],
      "execution_count": null,
      "outputs": []
    },
    {
      "cell_type": "code",
      "metadata": {
        "id": "3AyMbINxNkIG"
      },
      "source": [
        "help(model.most_similar)"
      ],
      "execution_count": null,
      "outputs": []
    },
    {
      "cell_type": "markdown",
      "metadata": {
        "id": "8lUdvszkOM6F"
      },
      "source": [
        "# Analogy\n",
        "\"Frau\" is to \"Koenigin\" as \"Mann\" is to ???\n",
        "\n",
        "In vector arithmetic: \"Mann\" + \"Koenigin\" - \"Frau\""
      ]
    },
    {
      "cell_type": "code",
      "metadata": {
        "id": "8VFvTvtAOD6E"
      },
      "source": [
        " \n",
        " print(model.most_similar(positive=['Mann', 'Koenigin'], negative=['Frau']))\n",
        " print (\"\\n----\\n\")\n",
        " model.most_similar(positive=['Mann', 'Hausfrau'], negative=['Frau'])"
      ],
      "execution_count": null,
      "outputs": []
    },
    {
      "cell_type": "markdown",
      "metadata": {
        "id": "NvY2GM7xQp7v"
      },
      "source": [
        "# Addition\n",
        "Cultural biases end up in the embedding space... Try \"Frau\"+\"Arbeit\"..."
      ]
    },
    {
      "cell_type": "code",
      "metadata": {
        "id": "hnbDisH6QtTM"
      },
      "source": [
        "print(model.most_similar(positive=['Frau', 'Arbeit']))\n",
        "print (\"\\n----\\n\")\n",
        "model.most_similar(positive=['Mann', 'Arbeit'])"
      ],
      "execution_count": null,
      "outputs": []
    },
    {
      "cell_type": "markdown",
      "metadata": {
        "id": "ZTkXxBJ9R4JU"
      },
      "source": [
        ""
      ]
    },
    {
      "cell_type": "code",
      "metadata": {
        "id": "cWD5UR21SDOt"
      },
      "source": [
        "print(model.most_similar(positive=['Popcorn', 'Filme']))\n",
        "print (\"\\n----\\n\")\n",
        "model.most_similar(positive=['Popcorn', 'Film'])"
      ],
      "execution_count": null,
      "outputs": []
    },
    {
      "cell_type": "markdown",
      "metadata": {
        "id": "BY10meKuSCXs"
      },
      "source": [
        "# Subtraction\n"
      ]
    },
    {
      "cell_type": "code",
      "metadata": {
        "id": "wPxZEP3-SpOi"
      },
      "source": [
        "model.most_similar(positive=['Python'],negative=['Software'])"
      ],
      "execution_count": null,
      "outputs": []
    },
    {
      "cell_type": "code",
      "metadata": {
        "id": "qzeAhwx0S0cC"
      },
      "source": [
        "model.most_similar(positive=['Python'],negative=['Tier'])"
      ],
      "execution_count": null,
      "outputs": []
    },
    {
      "cell_type": "markdown",
      "metadata": {
        "id": "NkKDKOf24gkX"
      },
      "source": [
        "# Plot word vectors\n",
        "##### See [visualize.py](https://github.com/devmount/GermanWordEmbeddings/blob/master/visualize.py) script from [GermanWordEmbeddings](https://devmount.github.io/GermanWordEmbeddings/)\n",
        "\n",
        "The following code gives an example of how to reduce dimensionality of word vectors with PCA or t-SNE.\n",
        "With two dimensions left, the words can be plotted as points in a two-dimensional graph.\n",
        "\n",
        "You need [gensim](https://radimrehurek.com/gensim/install.html), [matplotlib](http://matplotlib.org/faq/installing_faq.html#how-to-install) and [scikit-learn](http://scikit-learn.org/dev/install.html) for this script to work."
      ]
    },
    {
      "cell_type": "markdown",
      "metadata": {
        "id": "yX028OOX4gkY"
      },
      "source": [
        "The following function is used to compute PCA/t-SNE representation of words and returns a configured and styled plot."
      ]
    },
    {
      "cell_type": "code",
      "metadata": {
        "id": "y6dECLya4gkZ"
      },
      "source": [
        "def draw_words(model, words, pca=False, alternate=True, arrows=True, x1=3, x2=3, y1=3, y2=3, title=''):\n",
        "    # get vectors for given words from model\n",
        "    vectors = [model[word] for word in words]\n",
        "\n",
        "    if pca:\n",
        "        pca = PCA(n_components=2, whiten=True)\n",
        "        vectors2d = pca.fit(vectors).transform(vectors)\n",
        "    else:\n",
        "        tsne = TSNE(n_components=2, random_state=0)\n",
        "        vectors2d = tsne.fit_transform(vectors)\n",
        "\n",
        "    # draw image\n",
        "    plt.figure(figsize=(6,6))\n",
        "    if pca:\n",
        "        plt.axis([x1, x2, y1, y2])\n",
        "\n",
        "    first = True # color alternation to divide given groups\n",
        "    for point, word in zip(vectors2d , words):\n",
        "        # plot points\n",
        "        plt.scatter(point[0], point[1], c='r' if first else 'g')\n",
        "        # plot word annotations\n",
        "        plt.annotate(\n",
        "            word, \n",
        "            xy = (point[0], point[1]),\n",
        "            xytext = (-7, -6) if first else (7, -6),\n",
        "            textcoords = 'offset points',\n",
        "            ha = 'right' if first else 'left',\n",
        "            va = 'bottom',\n",
        "            size = \"x-large\"\n",
        "        )\n",
        "        first = not first if alternate else first\n",
        "\n",
        "    # draw arrows\n",
        "    if arrows:\n",
        "        for i in xrange(0, len(words)-1, 2):\n",
        "            a = vectors2d[i][0] + 0.04\n",
        "            b = vectors2d[i][1]\n",
        "            c = vectors2d[i+1][0] - 0.04\n",
        "            d = vectors2d[i+1][1]\n",
        "            plt.arrow(a, b, c-a, d-b,\n",
        "                shape='full',\n",
        "                lw=0.1,\n",
        "                edgecolor='#bbbbbb',\n",
        "                facecolor='#bbbbbb',\n",
        "                length_includes_head=True,\n",
        "                head_width=0.08,\n",
        "                width=0.01\n",
        "            )\n",
        "\n",
        "    # draw diagram title\n",
        "    if title:\n",
        "        plt.title(title)\n",
        "\n",
        "    plt.tight_layout()\n",
        "    plt.show()"
      ],
      "execution_count": null,
      "outputs": []
    },
    {
      "cell_type": "markdown",
      "metadata": {
        "id": "qjeq1otk4gkZ"
      },
      "source": [
        "Now that we have all tools to process word vectors, we need to load the `word2vec` language model that contains our high-dimensional word vectors."
      ]
    },
    {
      "cell_type": "code",
      "metadata": {
        "id": "ylTtkxHN573C"
      },
      "source": [
        ""
      ],
      "execution_count": null,
      "outputs": []
    },
    {
      "cell_type": "markdown",
      "metadata": {
        "id": "uFw3TTM_4gka"
      },
      "source": [
        "With the model and the `draw_words()` function a list of words can be plotted. When 2 word classes are given (like the first 3 following examples), put them alternately in the list and set the `alternate` parameter of the function to `True`. That procuces arrows and improved label positions."
      ]
    },
    {
      "cell_type": "code",
      "metadata": {
        "scrolled": true,
        "id": "-1wzM69B4gka"
      },
      "source": [
        "# plot currencies\n",
        "words = [\"Schweiz\",\"Franken\",\"Deutschland\",\"Euro\",\"Grossbritannien\",\"britische_Pfund\",\"Japan\",\"Yen\",\"Russland\",\"Rubel\",\"USA\",\"US-Dollar\",\"Kroatien\",\"Kuna\"]\n",
        "draw_words(model, words, pca=True, alternate=True, arrows=True, x1=-3, x2=3, y1=-2, y2=3, title=r'$PCA\\ Visualisierung:\\ W\\ddot{a}hrung$')"
      ],
      "execution_count": null,
      "outputs": []
    },
    {
      "cell_type": "code",
      "metadata": {
        "scrolled": true,
        "id": "3XnATJZs4gkb"
      },
      "source": [
        "# plot capitals\n",
        "words  = [\"Athen\",\"Griechenland\",\"Berlin\",\"Deutschland\",\"Ankara\",\"Tuerkei\",\"Bern\",\"Schweiz\",\"Hanoi\",\"Vietnam\",\"Lissabon\",\"Portugal\",\"Moskau\",\"Russland\",\"Stockholm\",\"Schweden\",\"Tokio\",\"Japan\",\"Washington\",\"USA\"]\n",
        "draw_words(model, words, True, True, True, -3, 3, -2, 3, r'$PCA\\ Visualisierung:\\ Hauptstadt$')"
      ],
      "execution_count": null,
      "outputs": []
    },
    {
      "cell_type": "code",
      "metadata": {
        "id": "vpLCFS3a4gkb"
      },
      "source": [
        "# plot language\n",
        "words = [\"Deutschland\",\"Deutsch\",\"USA\",\"Englisch\",\"Frankreich\",\"Franzoesisch\",\"Griechenland\",\"Griechisch\",\"Norwegen\",\"Norwegisch\",\"Schweden\",\"Schwedisch\",\"Polen\",\"Polnisch\",\"Ungarn\",\"Ungarisch\"]\n",
        "draw_words(model, words, True, True, True, -3, 3, -2, 3, r'$PCA\\ Visualisierung:\\ Sprache$')"
      ],
      "execution_count": null,
      "outputs": []
    },
    {
      "cell_type": "markdown",
      "metadata": {
        "id": "2krFce8v4gkc"
      },
      "source": [
        "The next example shows related words to a given word, using the `most_similar()` function of gensim."
      ]
    },
    {
      "cell_type": "code",
      "metadata": {
        "scrolled": true,
        "id": "mfUvsxrz4gkc"
      },
      "source": [
        "# plot related words to 'house'\n",
        "matches = model.most_similar(positive=[\"Haus\"], negative=[], topn=10)\n",
        "words = [match[0] for match in matches]\n",
        "draw_words(model, words, True, False, False, -3, 2, -2, 2, r'$PCA\\ Visualisierung:\\ Haus$')"
      ],
      "execution_count": null,
      "outputs": []
    },
    {
      "cell_type": "markdown",
      "metadata": {
        "id": "FGho5Hbi4gkd"
      },
      "source": [
        "Finally an example for capturing correct gender of given name."
      ]
    },
    {
      "cell_type": "code",
      "metadata": {
        "id": "oKsxhpsO4gkd"
      },
      "source": [
        "# plot name\n",
        "words = [\"Alina\",\"Aaron\",\"Charlotte\",\"Ben\",\"Emily\",\"Elias\",\"Fiona\",\"Felix\",\"Johanna\",\"Joel\",\"Lara\",\"Julian\",\"Lea\",\"Linus\",\"Lina\",\"Lukas\",\"Mia\",\"Mika\",\"Sarah\",\"Noah\",\"Sophie\",\"Simon\"]\n",
        "draw_words(model, words, True, True, False, -3, 3, -1.5, 2.5, r'$PCA\\ Visualisierung:\\ Namen\\ nach\\ Geschlecht$')"
      ],
      "execution_count": null,
      "outputs": []
    },
    {
      "cell_type": "code",
      "metadata": {
        "id": "D4wzFTsv7AMd"
      },
      "source": [
        ""
      ],
      "execution_count": null,
      "outputs": []
    }
  ]
}